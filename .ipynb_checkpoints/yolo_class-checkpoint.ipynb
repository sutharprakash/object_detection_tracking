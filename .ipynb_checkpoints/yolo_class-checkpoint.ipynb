{
 "cells": [
  {
   "cell_type": "code",
   "execution_count": 2,
   "id": "8db13dc1",
   "metadata": {},
   "outputs": [],
   "source": [
    "import argparse\n",
    "import os\n",
    "import platform\n",
    "import sys\n",
    "from pathlib import Path\n",
    "import torch\n",
    "\n",
    "ROOT = \"yolov5/\"\n",
    "\n",
    "sys.path.append(ROOT)\n",
    "\n",
    "from models.common import DetectMultiBackend\n",
    "from utils.dataloaders import IMG_FORMATS, VID_FORMATS, LoadImages, LoadScreenshots, LoadStreams\n",
    "from utils.general import (LOGGER, Profile, check_file, check_img_size, check_imshow, check_requirements, colorstr, cv2,\n",
    "                           increment_path, non_max_suppression, print_args, scale_boxes, strip_optimizer, xyxy2xywh)\n",
    "from utils.plots import Annotator, colors, save_one_box\n",
    "from utils.torch_utils import select_device, smart_inference_mode"
   ]
  },
  {
   "cell_type": "code",
   "execution_count": 59,
   "id": "7c258a59",
   "metadata": {},
   "outputs": [],
   "source": [
    "class yoloDetect():\n",
    "    def __init__(self, weights='runs/train/exp/weights/best.pt'):\n",
    "        device='cpu'\n",
    "        dnn=False\n",
    "        data='data/coco128.yaml'\n",
    "        half=False\n",
    "        imgsz=(640, 640)\n",
    "        \n",
    "        self.device = select_device(device)\n",
    "        self.model = DetectMultiBackend(weights, device=self.device, dnn=dnn, data=data, fp16=half)\n",
    "        self.stride, self.names, self.pt = self.model.stride, self.model.names, self.model.pt\n",
    "        self.imgsz = check_img_size(imgsz, s=self.stride)\n",
    "        \n",
    "        \n",
    "    def run(self,\n",
    "            source,    \n",
    "            conf_thres=0.25, \n",
    "            iou_thres=0.45,  # NMS IOU threshold\n",
    "            max_det=1000,  # maximum detections per image\n",
    "            view_img=False,  # show results\n",
    "            save_txt=False,  # save results to *.txt\n",
    "            save_conf=False,  # save confidences in --save-txt labels\n",
    "            save_crop=False,  # save cropped prediction boxes\n",
    "            nosave=False,  # do not save images/videos\n",
    "            classes=None,  # filter by class: --class 0, or --class 0 2 3\n",
    "            agnostic_nms=False,  # class-agnostic NMS\n",
    "            augment=False,  # augmented inference\n",
    "            visualize=False,  # visualize features\n",
    "            update=False,  # update all models\n",
    "            project='runs/detect',  # save results to project/name\n",
    "            name='exp',  # save results to project/name\n",
    "            exist_ok=False,  # existing project/name ok, do not increment\n",
    "            line_thickness=3,  # bounding box thickness (pixels)\n",
    "            hide_labels=False,  # hide labels\n",
    "            hide_conf=False,  # hide confidences\n",
    "            vid_stride=1):\n",
    "    \n",
    "        source = str(source)\n",
    "        save_img = not nosave and not source.endswith('.txt')  # save inference images\n",
    "        is_file = Path(source).suffix[1:] in (IMG_FORMATS + VID_FORMATS)\n",
    "        is_url = source.lower().startswith(('rtsp://', 'rtmp://', 'http://', 'https://'))\n",
    "        webcam = source.isnumeric() or source.endswith('.txt') or (is_url and not is_file)\n",
    "        screenshot = source.lower().startswith('screen')\n",
    "        if is_url and is_file:\n",
    "            source = check_file(source) \n",
    "\n",
    "        # Directories\n",
    "        save_dir = increment_path(Path(project) / name, exist_ok=exist_ok)  # increment run\n",
    "        (save_dir / 'labels' if save_txt else save_dir).mkdir(parents=True, exist_ok=True)  # make dir\n",
    "\n",
    "\n",
    "\n",
    "\n",
    "        if webcam:\n",
    "            view_img = check_imshow()\n",
    "            dataset = LoadStreams(source, img_size=self.imgsz, stride=self.stride, auto=self.pt, vid_stride=vid_stride)\n",
    "        elif screenshot:\n",
    "            dataset = LoadScreenshots(source, img_size=self.imgsz, stride=self.stride, auto=self.pt)\n",
    "        else:\n",
    "            dataset = LoadImages(source, img_size=self.imgsz, stride=self.stride, auto=self.pt, vid_stride=vid_stride)\n",
    "        bs = len(dataset)  # batch_size\n",
    "        vid_path, vid_writer = [None] * bs, [None] * bs\n",
    "\n",
    "        # Run inference\n",
    "        self.model.warmup(imgsz=(1 if self.pt or self.model.triton else bs, 3, *self.imgsz))  # warmup\n",
    "        seen, windows, dt = 0, [], (Profile(), Profile(), Profile())\n",
    "        for path, im, im0s, vid_cap, s in dataset:\n",
    "            with dt[0]:\n",
    "                im = torch.from_numpy(im).to(self.model.device)\n",
    "                im = im.half() if self.model.fp16 else im.float()  # uint8 to fp16/32\n",
    "                im /= 255  # 0 - 255 to 0.0 - 1.0\n",
    "                if len(im.shape) == 3:\n",
    "                    im = im[None]  # expand for batch dim\n",
    "\n",
    "\n",
    "            with dt[1]:\n",
    "                visualize = increment_path(save_dir / Path(path).stem, mkdir=True) if visualize else False\n",
    "                pred = self.model(im, augment=augment, visualize=visualize)\n",
    "\n",
    "\n",
    "            with dt[2]:\n",
    "                pred = non_max_suppression(pred, conf_thres, iou_thres, classes, agnostic_nms, max_det=max_det)\n",
    "\n",
    "\n",
    "            # Process predictions\n",
    "            for i, det in enumerate(pred):  # per image\n",
    "                seen += 1\n",
    "                if webcam:  # batch_size >= 1\n",
    "                    p, im0, frame = path[i], im0s[i].copy(), dataset.count\n",
    "                    s += f'{i}: '\n",
    "                else:\n",
    "                    p, im0, frame = path, im0s.copy(), getattr(dataset, 'frame', 0)\n",
    "\n",
    "                p = Path(p)  # to Path\n",
    "                save_path = str(save_dir / p.name)  # im.jpg\n",
    "                txt_path = str(save_dir / 'labels' / p.stem) + ('' if dataset.mode == 'image' else f'_{frame}')  # im.txt\n",
    "                s += '%gx%g ' % im.shape[2:]  # print string\n",
    "                gn = torch.tensor(im0.shape)[[1, 0, 1, 0]]  # normalization gain whwh\n",
    "                imc = im0.copy() if save_crop else im0  # for save_crop\n",
    "                annotator = Annotator(im0, line_width=line_thickness, example=str(self.names))\n",
    "                if len(det):\n",
    "                    # Rescale boxes from img_size to im0 size\n",
    "                    det[:, :4] = scale_boxes(im.shape[2:], det[:, :4], im0.shape).round()\n",
    "\n",
    "                    # Print results\n",
    "                    for c in det[:, 5].unique():\n",
    "                        n = (det[:, 5] == c).sum()  # detections per class\n",
    "                        s += f\"{n} {self.names[int(c)]}{'s' * (n > 1)}, \"  # add to string\n",
    "\n",
    "                    # Write results\n",
    "                    for *xyxy, conf, cls in reversed(det):\n",
    "                        if save_txt:  # Write to file\n",
    "                            xywh = (xyxy2xywh(torch.tensor(xyxy).view(1, 4)) / gn).view(-1).tolist()  # normalized xywh\n",
    "                            line = (cls, *xywh, conf) if save_conf else (cls, *xywh)  # label format\n",
    "                            with open(f'{txt_path}.txt', 'a') as f:\n",
    "                                f.write(('%g ' * len(line)).rstrip() % line + '\\n')\n",
    "\n",
    "                        if save_img or save_crop or view_img:  # Add bbox to image\n",
    "                            c = int(cls)  # integer class\n",
    "                            label = None if hide_labels else (self.names[c] if hide_conf else f'{self.names[c]} {conf:.2f}')\n",
    "                            annotator.box_label(xyxy, label, color=colors(c, True))\n",
    "                        if save_crop:\n",
    "                            save_one_box(xyxy, imc, file=save_dir / 'crops' / names[c] / f'{p.stem}.jpg', BGR=True)\n",
    "\n",
    "                # Stream results\n",
    "                im0 = annotator.result()\n",
    "        return im0\n",
    "    \n"
   ]
  },
  {
   "cell_type": "code",
   "execution_count": 60,
   "id": "2efdf4bc",
   "metadata": {},
   "outputs": [
    {
     "name": "stderr",
     "output_type": "stream",
     "text": [
      "YOLOv5 🚀 v6.2-162-g55fbac9 Python-3.10.6 torch-1.12.1+cu102 CPU\n",
      "\n",
      "Fusing layers... \n",
      "Model summary: 157 layers, 7037095 parameters, 0 gradients\n"
     ]
    }
   ],
   "source": [
    "y1 = yoloDetect()"
   ]
  },
  {
   "cell_type": "code",
   "execution_count": 61,
   "id": "4803701c",
   "metadata": {},
   "outputs": [],
   "source": [
    "path = \"/media/khantil/hdd1/yoloV5_Ketan_sir/yolov5/test_img/0000097_11819_d_0000055.jpg\""
   ]
  },
  {
   "cell_type": "code",
   "execution_count": 62,
   "id": "55d9599a",
   "metadata": {},
   "outputs": [],
   "source": [
    "img_ = y1.run(path)"
   ]
  },
  {
   "cell_type": "code",
   "execution_count": 63,
   "id": "b16c20e9",
   "metadata": {},
   "outputs": [
    {
     "data": {
      "text/plain": [
       "True"
      ]
     },
     "execution_count": 63,
     "metadata": {},
     "output_type": "execute_result"
    }
   ],
   "source": [
    "cv2.imwrite(\"test11.jpg\", img_)"
   ]
  }
 ],
 "metadata": {
  "kernelspec": {
   "display_name": "Python 3 (ipykernel)",
   "language": "python",
   "name": "python3"
  },
  "language_info": {
   "codemirror_mode": {
    "name": "ipython",
    "version": 3
   },
   "file_extension": ".py",
   "mimetype": "text/x-python",
   "name": "python",
   "nbconvert_exporter": "python",
   "pygments_lexer": "ipython3",
   "version": "3.10.6"
  }
 },
 "nbformat": 4,
 "nbformat_minor": 5
}
